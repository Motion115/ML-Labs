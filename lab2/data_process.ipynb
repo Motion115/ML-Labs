{
 "cells": [
  {
   "cell_type": "code",
   "execution_count": 99,
   "metadata": {},
   "outputs": [],
   "source": [
    "import pandas as pd\n",
    "import torch\n",
    "import networkx as nx\n",
    "import matplotlib.pyplot as plt\n",
    "import numpy as np\n",
    "from sklearn.preprocessing import StandardScaler"
   ]
  },
  {
   "cell_type": "code",
   "execution_count": 100,
   "metadata": {
    "collapsed": false,
    "pycharm": {
     "name": "#%%\n"
    }
   },
   "outputs": [],
   "source": [
    "feature = pd.read_pickle('./corpus/corax_features.pkl')\n",
    "label = pd.read_pickle('./corpus/corax_labels.pkl')\n",
    "adj_matrix=pd.read_pickle('./corpus/corax_adj.pkl')"
   ]
  },
  {
   "cell_type": "code",
   "execution_count": 101,
   "metadata": {},
   "outputs": [
    {
     "name": "stdout",
     "output_type": "stream",
     "text": [
      "(2680, 302)\n",
      "[[0 0 0 ... 0 0 0]\n",
      " [0 0 0 ... 1 0 0]\n",
      " [0 0 0 ... 1 0 0]\n",
      " ...\n",
      " [0 0 0 ... 0 0 0]\n",
      " [0 0 0 ... 0 0 0]\n",
      " [0 0 0 ... 0 0 0]]\n"
     ]
    }
   ],
   "source": [
    "# feature是一个numpy数组，只要feature的前300维\n",
    "#feature = feature[:, :300]\n",
    "print(feature.shape)\n",
    "print(label)"
   ]
  },
  {
   "cell_type": "code",
   "execution_count": 102,
   "metadata": {},
   "outputs": [
    {
     "data": {
      "text/plain": [
       "(2680,)"
      ]
     },
     "execution_count": 102,
     "metadata": {},
     "output_type": "execute_result"
    }
   ],
   "source": [
    "label_onehot = torch.tensor(label)\n",
    "#One-Hot编码转换为0-6\n",
    "y = torch.topk(label_onehot, 1)[1].squeeze(1).numpy()\n",
    "y.shape"
   ]
  },
  {
   "cell_type": "code",
   "execution_count": 103,
   "metadata": {},
   "outputs": [
    {
     "data": {
      "text/plain": [
       "<2680x2680 sparse matrix of type '<class 'numpy.int64'>'\n",
       "\twith 10296 stored elements in Compressed Sparse Row format>"
      ]
     },
     "execution_count": 103,
     "metadata": {},
     "output_type": "execute_result"
    }
   ],
   "source": [
    "adj_matrix"
   ]
  },
  {
   "cell_type": "code",
   "execution_count": 104,
   "metadata": {},
   "outputs": [
    {
     "name": "stdout",
     "output_type": "stream",
     "text": [
      "DiGraph with 2680 nodes and 10296 edges\n"
     ]
    }
   ],
   "source": [
    "#根据邻接矩阵确定连边关系\n",
    "G = nx.from_numpy_matrix(adj_matrix, create_using=nx.DiGraph())\n",
    "print(G)"
   ]
  },
  {
   "cell_type": "code",
   "execution_count": null,
   "metadata": {},
   "outputs": [],
   "source": [
    "# 迭代所有结点，计算结点入度出度及图特征\n",
    "inDeg = G.in_degree()\n",
    "outDeg = G.out_degree()\n",
    "print(\"是否有向：\", not (inDeg == outDeg))\n",
    "degree_centrality = nx.degree_centrality(G)\n",
    "page_rank = nx.pagerank(G)\n",
    "clustering = nx.clustering(G)\n",
    "eigen = nx.eigenvector_centrality(G)\n",
    "\n",
    "# 所有特征合并为一个矩阵\n",
    "feature_matrix = np.zeros((len(inDeg), 6))\n",
    "for i in range(len(inDeg)):\n",
    "    feature_matrix[i, 4] = inDeg[i]\n",
    "    feature_matrix[i, 5] = outDeg[i]\n",
    "    feature_matrix[i, 0] = degree_centrality[i]\n",
    "    feature_matrix[i, 1] = page_rank[i]\n",
    "    feature_matrix[i, 2] = clustering[i]\n",
    "    feature_matrix[i, 3] = eigen[i]\n",
    "\n",
    "# 标准化\n",
    "scaler = StandardScaler()\n",
    "feature_matrix = scaler.fit_transform(feature_matrix)\n",
    "    \n",
    "# 特征拼接\n",
    "use_node_attr = False\n",
    "if use_node_attr == True:\n",
    "    feature = np.c_[feature, feature_matrix]\n",
    "else:\n",
    "    feature = feature\n"
   ]
  },
  {
   "cell_type": "code",
   "execution_count": null,
   "metadata": {},
   "outputs": [],
   "source": [
    "from sklearn.manifold import TSNE\n",
    "# 对特征数据进行 t-SNE 降维\n",
    "tsne = TSNE(n_components=2, random_state=42, perplexity=30, init='pca', metric='euclidean')\n",
    "features_tsne = tsne.fit_transform(feature)\n",
    "\n",
    "# 绘制原始数据的散点图\n",
    "plt.figure(figsize=(8, 6))\n",
    "plt.scatter(features_tsne[:, 0], features_tsne[:, 1], c=label.argmax(axis=1),cmap='tab10')\n",
    "plt.title('Original Data')\n",
    "plt.show()"
   ]
  },
  {
   "cell_type": "code",
   "execution_count": null,
   "metadata": {},
   "outputs": [],
   "source": [
    "# Cora有7个类别，对应7个颜色\n",
    "color = ['red', 'orange', 'blue', 'green', 'yellow', 'pink', 'darkviolet']\n",
    "\n",
    "# 每个节点对应的颜色\n",
    "node_color = [color[y[i]] for i in range(len(G.nodes))]\n",
    "\n",
    "pos = nx.spring_layout(G)\n",
    "# 绘制图\n",
    "nx.draw(G, pos,node_size=50, node_color=node_color)\n",
    "plt.show()\n"
   ]
  },
  {
   "cell_type": "code",
   "execution_count": null,
   "metadata": {},
   "outputs": [],
   "source": [
    "Cora_train = np.c_[feature[0:1180],y[0:1180]]\n",
    "Cora_validation = np.c_[feature[1180:1680],y[1180:1680]]\n",
    "Cora_test = np.c_[feature[1680:2681],y[1680:2681]]\n",
    "\n",
    "Cora_train=pd.DataFrame(Cora_train)\n",
    "Cora_validation=pd.DataFrame(Cora_validation)\n",
    "Cora_test=pd.DataFrame(Cora_test)"
   ]
  },
  {
   "cell_type": "code",
   "execution_count": null,
   "metadata": {},
   "outputs": [],
   "source": [
    "Cora_train.to_pickle('./processed/corax_train.pkl')\n",
    "Cora_validation.to_pickle('./processed/corax_validation.pkl')\n",
    "Cora_test.to_pickle('./processed/corax_test.pkl')\n",
    "nx.write_gpickle(G,'./processed/corax_graph.gpickle')"
   ]
  }
 ],
 "metadata": {
  "kernelspec": {
   "display_name": "Python 3",
   "language": "python",
   "name": "python3"
  },
  "language_info": {
   "codemirror_mode": {
    "name": "ipython",
    "version": 3
   },
   "file_extension": ".py",
   "mimetype": "text/x-python",
   "name": "python",
   "nbconvert_exporter": "python",
   "pygments_lexer": "ipython3",
   "version": "3.7.12"
  }
 },
 "nbformat": 4,
 "nbformat_minor": 0
}
