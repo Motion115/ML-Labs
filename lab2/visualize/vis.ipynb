{
 "cells": [
  {
   "cell_type": "code",
   "execution_count": 2,
   "metadata": {},
   "outputs": [
    {
     "name": "stdout",
     "output_type": "stream",
     "text": [
      "Downloading C:\\Users\\Motio\\.dgl\\cora_v2.zip from https://data.dgl.ai/dataset/cora_v2.zip...\n",
      "Extracting file to C:\\Users\\Motio\\.dgl\\cora_v2\n",
      "Finished data loading and preprocessing.\n",
      "  NumNodes: 2708\n",
      "  NumEdges: 10556\n",
      "  NumFeats: 1433\n",
      "  NumClasses: 7\n",
      "  NumTrainingSamples: 140\n",
      "  NumValidationSamples: 500\n",
      "  NumTestSamples: 1000\n",
      "Done saving data into cached files.\n"
     ]
    }
   ],
   "source": [
    "from dgl.data import CoraGraphDataset\n",
    "\n",
    "dataset = CoraGraphDataset()\n",
    "graph = dataset[0]\n",
    "nlabels = graph.ndata['label']\n",
    "num_classes = dataset.num_classes"
   ]
  },
  {
   "cell_type": "code",
   "execution_count": 3,
   "metadata": {},
   "outputs": [],
   "source": [
    "from gnnlens import Writer\n",
    "\n",
    "# Specify the path to create a new directory for dumping data files.\n",
    "writer = Writer('tutorial_nlabel')\n",
    "writer.add_graph(name='Cora', graph=graph, \n",
    "                 nlabels=nlabels, num_nlabel_types=num_classes)"
   ]
  },
  {
   "cell_type": "code",
   "execution_count": 4,
   "metadata": {},
   "outputs": [
    {
     "name": "stdout",
     "output_type": "stream",
     "text": [
      "Training GCN with one layer...\n",
      "Training GCN with two layers...\n"
     ]
    }
   ],
   "source": [
    "import torch\n",
    "import torch.nn as nn\n",
    "import torch.nn.functional as F\n",
    "from dgl.nn.pytorch import GraphConv\n",
    "\n",
    "# Define a class for GCN\n",
    "class GCN(nn.Module):\n",
    "    def __init__(self,\n",
    "                 in_feats,\n",
    "                 num_classes,\n",
    "                 num_layers):\n",
    "        super(GCN, self).__init__()\n",
    "        self.layers = nn.ModuleList()\n",
    "        self.layers.append(GraphConv(in_feats, num_classes))\n",
    "        for _ in range(num_layers - 1):\n",
    "            self.layers.append(GraphConv(num_classes, num_classes))\n",
    "\n",
    "    def forward(self, g, h):\n",
    "        for layer in self.layers:\n",
    "            h = layer(g, h)\n",
    "        return h\n",
    "\n",
    "# Define a function to train a GCN with the specified number of layers \n",
    "# and return the predictions\n",
    "def train_gcn(g, num_layers, num_classes):\n",
    "    features = g.ndata['feat']\n",
    "    labels = g.ndata['label']\n",
    "    train_mask = g.ndata['train_mask']\n",
    "    model = GCN(in_feats=features.shape[1],\n",
    "                num_classes=num_classes,\n",
    "                num_layers=num_layers)\n",
    "    loss_func = nn.CrossEntropyLoss()\n",
    "    optimizer = torch.optim.Adam(model.parameters(), lr=1e-2)\n",
    "  \n",
    "    num_epochs = 200\n",
    "    model.train()\n",
    "    for _ in range(num_epochs):\n",
    "        logits = model(g, features)\n",
    "        loss = loss_func(logits[train_mask], labels[train_mask])\n",
    "        optimizer.zero_grad()\n",
    "        loss.backward()\n",
    "        optimizer.step()\n",
    "      \n",
    "    model.eval()\n",
    "    predictions = model(g, features)\n",
    "    _, predicted_classes = torch.max(predictions, dim=1)\n",
    "    return predicted_classes\n",
    "\n",
    "print(\"Training GCN with one layer...\")\n",
    "predictions_one_layer = train_gcn(graph, num_layers=1, num_classes=num_classes)\n",
    "print(\"Training GCN with two layers...\")\n",
    "predictions_two_layers = train_gcn(graph, num_layers=2, num_classes=num_classes)\n",
    "# Dump the predictions to local files\n",
    "writer.add_model(graph_name='Cora', model_name='GCN_L1',\n",
    "                 nlabels=predictions_one_layer)\n",
    "writer.add_model(graph_name='Cora', model_name='GCN_L2',\n",
    "                 nlabels=predictions_two_layers)\n",
    "# Finish dumping\n",
    "writer.close()"
   ]
  }
 ],
 "metadata": {
  "kernelspec": {
   "display_name": "ml-labs",
   "language": "python",
   "name": "python3"
  },
  "language_info": {
   "codemirror_mode": {
    "name": "ipython",
    "version": 3
   },
   "file_extension": ".py",
   "mimetype": "text/x-python",
   "name": "python",
   "nbconvert_exporter": "python",
   "pygments_lexer": "ipython3",
   "version": "3.7.12"
  },
  "orig_nbformat": 4
 },
 "nbformat": 4,
 "nbformat_minor": 2
}
