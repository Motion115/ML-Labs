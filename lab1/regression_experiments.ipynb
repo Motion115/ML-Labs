{
 "cells": [
  {
   "attachments": {},
   "cell_type": "markdown",
   "metadata": {},
   "source": [
    "#### Lab1：Regression"
   ]
  },
  {
   "cell_type": "code",
   "execution_count": 95,
   "metadata": {},
   "outputs": [
    {
     "name": "stderr",
     "output_type": "stream",
     "text": [
      "Intel(R) Extension for Scikit-learn* enabled (https://github.com/intel/scikit-learn-intelex)\n"
     ]
    }
   ],
   "source": [
    "# enable intel acceleration; annotate this if you are not an Intel user or did not install the package\n",
    "from sklearnex import patch_sklearn\n",
    "patch_sklearn()"
   ]
  },
  {
   "cell_type": "code",
   "execution_count": 96,
   "metadata": {},
   "outputs": [
    {
     "name": "stdout",
     "output_type": "stream",
     "text": [
      "X shape:  (15419, 12)\n",
      "y shape:  (15419,)\n",
      "test_X shape:  (3949, 12)\n",
      "test_y shape:  (3949,)\n"
     ]
    },
    {
     "data": {
      "text/html": [
       "<div>\n",
       "<style scoped>\n",
       "    .dataframe tbody tr th:only-of-type {\n",
       "        vertical-align: middle;\n",
       "    }\n",
       "\n",
       "    .dataframe tbody tr th {\n",
       "        vertical-align: top;\n",
       "    }\n",
       "\n",
       "    .dataframe thead th {\n",
       "        text-align: right;\n",
       "    }\n",
       "</style>\n",
       "<table border=\"1\" class=\"dataframe\">\n",
       "  <thead>\n",
       "    <tr style=\"text-align: right;\">\n",
       "      <th></th>\n",
       "      <th>median_income</th>\n",
       "      <th>house_age</th>\n",
       "      <th>avg_rooms</th>\n",
       "      <th>avg_bedrooms</th>\n",
       "      <th>block_population</th>\n",
       "      <th>avg_occupancy</th>\n",
       "      <th>latitude</th>\n",
       "      <th>longitude</th>\n",
       "      <th>house_value</th>\n",
       "      <th>diag_coord</th>\n",
       "      <th>bed_per_rooms</th>\n",
       "      <th>rooms_per_occup</th>\n",
       "      <th>pop_per_occup</th>\n",
       "    </tr>\n",
       "  </thead>\n",
       "  <tbody>\n",
       "    <tr>\n",
       "      <th>count</th>\n",
       "      <td>19368.000000</td>\n",
       "      <td>19368.000000</td>\n",
       "      <td>19368.000000</td>\n",
       "      <td>19368.000000</td>\n",
       "      <td>19368.000000</td>\n",
       "      <td>19368.000000</td>\n",
       "      <td>19368.000000</td>\n",
       "      <td>19368.000000</td>\n",
       "      <td>19368.000000</td>\n",
       "      <td>19368.000000</td>\n",
       "      <td>19368.000000</td>\n",
       "      <td>19368.000000</td>\n",
       "      <td>19368.000000</td>\n",
       "    </tr>\n",
       "    <tr>\n",
       "      <th>mean</th>\n",
       "      <td>3.673811</td>\n",
       "      <td>28.504337</td>\n",
       "      <td>5.231582</td>\n",
       "      <td>1.068762</td>\n",
       "      <td>1434.512443</td>\n",
       "      <td>2.947061</td>\n",
       "      <td>35.640001</td>\n",
       "      <td>-119.567480</td>\n",
       "      <td>1.924389</td>\n",
       "      <td>-83.927479</td>\n",
       "      <td>0.214865</td>\n",
       "      <td>1.882022</td>\n",
       "      <td>501.111266</td>\n",
       "    </tr>\n",
       "    <tr>\n",
       "      <th>std</th>\n",
       "      <td>1.551153</td>\n",
       "      <td>12.473440</td>\n",
       "      <td>1.324958</td>\n",
       "      <td>0.173759</td>\n",
       "      <td>1055.291048</td>\n",
       "      <td>0.975075</td>\n",
       "      <td>2.143433</td>\n",
       "      <td>2.003215</td>\n",
       "      <td>0.970605</td>\n",
       "      <td>0.798970</td>\n",
       "      <td>0.056603</td>\n",
       "      <td>0.621850</td>\n",
       "      <td>366.403133</td>\n",
       "    </tr>\n",
       "    <tr>\n",
       "      <th>min</th>\n",
       "      <td>0.499900</td>\n",
       "      <td>1.000000</td>\n",
       "      <td>0.846154</td>\n",
       "      <td>0.333333</td>\n",
       "      <td>5.000000</td>\n",
       "      <td>1.089286</td>\n",
       "      <td>32.540000</td>\n",
       "      <td>-124.350000</td>\n",
       "      <td>0.149990</td>\n",
       "      <td>-85.870000</td>\n",
       "      <td>0.100000</td>\n",
       "      <td>0.104410</td>\n",
       "      <td>2.000000</td>\n",
       "    </tr>\n",
       "    <tr>\n",
       "      <th>25%</th>\n",
       "      <td>2.529250</td>\n",
       "      <td>18.000000</td>\n",
       "      <td>4.408579</td>\n",
       "      <td>1.005401</td>\n",
       "      <td>805.000000</td>\n",
       "      <td>2.450000</td>\n",
       "      <td>33.930000</td>\n",
       "      <td>-121.770000</td>\n",
       "      <td>1.167000</td>\n",
       "      <td>-84.410000</td>\n",
       "      <td>0.177625</td>\n",
       "      <td>1.496966</td>\n",
       "      <td>284.000000</td>\n",
       "    </tr>\n",
       "    <tr>\n",
       "      <th>50%</th>\n",
       "      <td>3.451150</td>\n",
       "      <td>29.000000</td>\n",
       "      <td>5.170473</td>\n",
       "      <td>1.047675</td>\n",
       "      <td>1185.000000</td>\n",
       "      <td>2.840974</td>\n",
       "      <td>34.260000</td>\n",
       "      <td>-118.490000</td>\n",
       "      <td>1.741000</td>\n",
       "      <td>-84.170000</td>\n",
       "      <td>0.204537</td>\n",
       "      <td>1.907405</td>\n",
       "      <td>414.000000</td>\n",
       "    </tr>\n",
       "    <tr>\n",
       "      <th>75%</th>\n",
       "      <td>4.583300</td>\n",
       "      <td>37.000000</td>\n",
       "      <td>5.945098</td>\n",
       "      <td>1.096985</td>\n",
       "      <td>1749.000000</td>\n",
       "      <td>3.304772</td>\n",
       "      <td>37.720000</td>\n",
       "      <td>-118.000000</td>\n",
       "      <td>2.484000</td>\n",
       "      <td>-83.510000</td>\n",
       "      <td>0.240879</td>\n",
       "      <td>2.237978</td>\n",
       "      <td>607.000000</td>\n",
       "    </tr>\n",
       "    <tr>\n",
       "      <th>max</th>\n",
       "      <td>12.500000</td>\n",
       "      <td>52.000000</td>\n",
       "      <td>37.063492</td>\n",
       "      <td>8.207547</td>\n",
       "      <td>28566.000000</td>\n",
       "      <td>63.750000</td>\n",
       "      <td>41.950000</td>\n",
       "      <td>-114.550000</td>\n",
       "      <td>5.000000</td>\n",
       "      <td>-78.290000</td>\n",
       "      <td>1.000000</td>\n",
       "      <td>17.353982</td>\n",
       "      <td>6082.000000</td>\n",
       "    </tr>\n",
       "  </tbody>\n",
       "</table>\n",
       "</div>"
      ],
      "text/plain": [
       "       median_income     house_age     avg_rooms  avg_bedrooms  \\\n",
       "count   19368.000000  19368.000000  19368.000000  19368.000000   \n",
       "mean        3.673811     28.504337      5.231582      1.068762   \n",
       "std         1.551153     12.473440      1.324958      0.173759   \n",
       "min         0.499900      1.000000      0.846154      0.333333   \n",
       "25%         2.529250     18.000000      4.408579      1.005401   \n",
       "50%         3.451150     29.000000      5.170473      1.047675   \n",
       "75%         4.583300     37.000000      5.945098      1.096985   \n",
       "max        12.500000     52.000000     37.063492      8.207547   \n",
       "\n",
       "       block_population  avg_occupancy      latitude     longitude  \\\n",
       "count      19368.000000   19368.000000  19368.000000  19368.000000   \n",
       "mean        1434.512443       2.947061     35.640001   -119.567480   \n",
       "std         1055.291048       0.975075      2.143433      2.003215   \n",
       "min            5.000000       1.089286     32.540000   -124.350000   \n",
       "25%          805.000000       2.450000     33.930000   -121.770000   \n",
       "50%         1185.000000       2.840974     34.260000   -118.490000   \n",
       "75%         1749.000000       3.304772     37.720000   -118.000000   \n",
       "max        28566.000000      63.750000     41.950000   -114.550000   \n",
       "\n",
       "        house_value    diag_coord  bed_per_rooms  rooms_per_occup  \\\n",
       "count  19368.000000  19368.000000   19368.000000     19368.000000   \n",
       "mean       1.924389    -83.927479       0.214865         1.882022   \n",
       "std        0.970605      0.798970       0.056603         0.621850   \n",
       "min        0.149990    -85.870000       0.100000         0.104410   \n",
       "25%        1.167000    -84.410000       0.177625         1.496966   \n",
       "50%        1.741000    -84.170000       0.204537         1.907405   \n",
       "75%        2.484000    -83.510000       0.240879         2.237978   \n",
       "max        5.000000    -78.290000       1.000000        17.353982   \n",
       "\n",
       "       pop_per_occup  \n",
       "count   19368.000000  \n",
       "mean      501.111266  \n",
       "std       366.403133  \n",
       "min         2.000000  \n",
       "25%       284.000000  \n",
       "50%       414.000000  \n",
       "75%       607.000000  \n",
       "max      6082.000000  "
      ]
     },
     "execution_count": 96,
     "metadata": {},
     "output_type": "execute_result"
    }
   ],
   "source": [
    "# import sklearn's metrics\n",
    "from sklearn.metrics import mean_squared_error, r2_score\n",
    "# define a function for adjusted r2_score\n",
    "def adj_r2_score(r2, n, k):\n",
    "    return 1 - (1 - r2) * (n - 1) / (n - k)\n",
    "\n",
    "from IPython.display import display\n",
    "import pandas as pd\n",
    "from sklearn.preprocessing import StandardScaler\n",
    "def load_data(train_file, test_file, is_normalize=True):\n",
    "    FILE_DIR = \"./dataset/\"\n",
    "    # load the data\n",
    "    train_file = pd.read_csv(FILE_DIR + train_file)\n",
    "    test_file = pd.read_csv(FILE_DIR + test_file)\n",
    "    # extract the house_price column for y\n",
    "    train_y = train_file[\"house_value\"]\n",
    "    test_y = test_file[\"house_value\"]\n",
    "    # drop the house_price column for X\n",
    "    train_file.drop(\"house_value\", axis=1, inplace=True)\n",
    "    test_file.drop(\"house_value\", axis=1, inplace=True)\n",
    "    # in any case, return it as numpy array\n",
    "    train_X = train_file.to_numpy()\n",
    "    test_X = test_file.to_numpy()\n",
    "    train_y = train_y.to_numpy()\n",
    "    test_y = test_y.to_numpy()\n",
    "    if is_normalize:\n",
    "        # normalize the data with sklearn scaler\n",
    "        scaler = StandardScaler()\n",
    "        train_file = scaler.fit_transform(train_X)\n",
    "        test_file = scaler.transform(test_X)\n",
    "\n",
    "    return train_X, train_y, test_X, test_y\n",
    "\n",
    "X, y, test_X, test_y = load_data(\"train_set.csv\", \"test_set.csv\", True)\n",
    "# print the size of X, y, test_X, test_y\n",
    "print(\"X shape: \", X.shape)\n",
    "print(\"y shape: \", y.shape)\n",
    "print(\"test_X shape: \", test_X.shape)\n",
    "print(\"test_y shape: \", test_y.shape)\n",
    "dataset_whole = pd.read_csv(\"./dataset/data_set.csv\")\n",
    "dataset_whole.describe()"
   ]
  },
  {
   "cell_type": "code",
   "execution_count": 97,
   "metadata": {},
   "outputs": [],
   "source": [
    "def train_test(model_name, model, X, y, test_X, test_y):\n",
    "    # train the model\n",
    "    model.fit(X, y)\n",
    "    # calculate train set metrics\n",
    "    y_pred = model.predict(X)\n",
    "    mse = mean_squared_error(y, y_pred)\n",
    "    r2 = r2_score(y, y_pred)\n",
    "    adj_r2 = adj_r2_score(r2, X.shape[0], X.shape[1])\n",
    "    # round the metrics to 4 decimal places\n",
    "    mse = round(mse, 4)\n",
    "    r2 = round(r2, 4)\n",
    "    adj_r2 = round(adj_r2, 4)\n",
    "    train_set_metrics = [mse, r2, adj_r2]\n",
    "    # predict the model\n",
    "    y_pred = model.predict(test_X)\n",
    "    # calculate the metrics\n",
    "    mse = mean_squared_error(test_y, y_pred)\n",
    "    r2 = r2_score(test_y, y_pred)\n",
    "    adj_r2 = adj_r2_score(r2, test_X.shape[0], test_X.shape[1])\n",
    "        # round the metrics to 4 decimal places\n",
    "    mse = round(mse, 4)\n",
    "    r2 = round(r2, 4)\n",
    "    adj_r2 = round(adj_r2, 4)\n",
    "    test_set_metrics = [mse, r2, adj_r2]\n",
    "    metrics = {\n",
    "        \"train_set\": train_set_metrics,\n",
    "        \"test_set\": test_set_metrics\n",
    "    }\n",
    "    return metrics"
   ]
  },
  {
   "attachments": {},
   "cell_type": "markdown",
   "metadata": {},
   "source": [
    "### Linear Models\n",
    "\n",
    "- Linear regression\n",
    "- Lasso regression (cross validation)\n",
    "- Ridge regression (cross validation)"
   ]
  },
  {
   "cell_type": "code",
   "execution_count": 98,
   "metadata": {},
   "outputs": [
    {
     "data": {
      "text/plain": [
       "'Linear Regression'"
      ]
     },
     "metadata": {},
     "output_type": "display_data"
    },
    {
     "data": {
      "text/plain": [
       "{'train_set': [0.3271, 0.6517, 0.6514], 'test_set': [0.3588, 0.6238, 0.6227]}"
      ]
     },
     "metadata": {},
     "output_type": "display_data"
    },
    {
     "data": {
      "text/plain": [
       "'Lasso_metrics: '"
      ]
     },
     "metadata": {},
     "output_type": "display_data"
    },
    {
     "data": {
      "text/plain": [
       "{'train_set': [0.8904, 0.0519, 0.0512], 'test_set': [0.9154, 0.04, 0.0373]}"
      ]
     },
     "metadata": {},
     "output_type": "display_data"
    },
    {
     "data": {
      "text/plain": [
       "'LassoCV_metrics: '"
      ]
     },
     "metadata": {},
     "output_type": "display_data"
    },
    {
     "data": {
      "text/plain": [
       "{'train_set': [0.3571, 0.6198, 0.6195], 'test_set': [0.3872, 0.5939, 0.5928]}"
      ]
     },
     "metadata": {},
     "output_type": "display_data"
    },
    {
     "data": {
      "text/plain": [
       "'RidgeCV_metrics: '"
      ]
     },
     "metadata": {},
     "output_type": "display_data"
    },
    {
     "data": {
      "text/plain": [
       "{'train_set': [0.3271, 0.6517, 0.6514], 'test_set': [0.3587, 0.6238, 0.6228]}"
      ]
     },
     "metadata": {},
     "output_type": "display_data"
    }
   ],
   "source": [
    "# import sklearn's linear models\n",
    "from sklearn.linear_model import LassoCV, RidgeCV, LinearRegression, Lasso\n",
    "\n",
    "LinearRegression_model = LinearRegression()\n",
    "LinearRegression_metrics = train_test(\"LinearRegression\", LinearRegression_model, X, y, test_X, test_y)\n",
    "display(\"Linear Regression\", LinearRegression_metrics)\n",
    "\n",
    "#SGDRegression_model = SGDRegressor(penalty=None, random_state=42)\n",
    "#SGDRegression_metrics = train_test(\"SGDRegression\", SGDRegression_model, X, y, test_X, test_y)\n",
    "#display(\"SGDRegression_metrics: \", SGDRegression_metrics)\n",
    "\n",
    "Lasso_model = Lasso(random_state=42)\n",
    "Lasso_metrics = train_test(\"Lasso\", Lasso_model, X, y, test_X, test_y)\n",
    "display(\"Lasso_metrics: \", Lasso_metrics)\n",
    "\n",
    "LassoCV_model = LassoCV(random_state=42)\n",
    "LassoCV_metrics = train_test(\"LassoCV\", LassoCV_model, X, y, test_X, test_y)\n",
    "display(\"LassoCV_metrics: \", LassoCV_metrics)\n",
    "\n",
    "RidgeCV_model = RidgeCV()\n",
    "RidgeCV_metrics = train_test(\"RidgeCV\", RidgeCV_model, X, y, test_X, test_y)\n",
    "display(\"RidgeCV_metrics: \", RidgeCV_metrics)\n"
   ]
  },
  {
   "attachments": {},
   "cell_type": "markdown",
   "metadata": {},
   "source": [
    "### Feature Selection Linear Model\n",
    "\n",
    "- Lars (cross validation)"
   ]
  },
  {
   "cell_type": "code",
   "execution_count": 99,
   "metadata": {},
   "outputs": [
    {
     "name": "stderr",
     "output_type": "stream",
     "text": [
      "d:\\Install\\Anaconda\\envs\\ml-labs\\lib\\site-packages\\sklearn\\linear_model\\_base.py:138: FutureWarning: The default of 'normalize' will be set to False in version 1.2 and deprecated in version 1.4.\n",
      "If you wish to scale the data, use Pipeline with a StandardScaler in a preprocessing stage. To reproduce the previous behavior:\n",
      "\n",
      "from sklearn.pipeline import make_pipeline\n",
      "\n",
      "model = make_pipeline(StandardScaler(with_mean=False), LarsCV())\n",
      "\n",
      "If you wish to pass a sample_weight parameter, you need to pass it as a fit parameter to each step of the pipeline as follows:\n",
      "\n",
      "kwargs = {s[0] + '__sample_weight': sample_weight for s in model.steps}\n",
      "model.fit(X, y, **kwargs)\n",
      "\n",
      "\n",
      "  FutureWarning,\n"
     ]
    },
    {
     "data": {
      "text/plain": [
       "'LarsCV_metrics: '"
      ]
     },
     "metadata": {},
     "output_type": "display_data"
    },
    {
     "data": {
      "text/plain": [
       "{'train_set': [0.3271, 0.6517, 0.6514], 'test_set': [0.3588, 0.6238, 0.6227]}"
      ]
     },
     "metadata": {},
     "output_type": "display_data"
    }
   ],
   "source": [
    "# import sklearn's linear model with feature selection\n",
    "from sklearn.linear_model import LarsCV\n",
    "\n",
    "LarsCV_model = LarsCV()\n",
    "LarsCV_metrics = train_test(\"LarsCV\", LarsCV_model, X, y, test_X, test_y)\n",
    "display(\"LarsCV_metrics: \", LarsCV_metrics)"
   ]
  },
  {
   "attachments": {},
   "cell_type": "markdown",
   "metadata": {},
   "source": [
    "### Bayesian regression\n",
    "\n",
    "- ARD Regression"
   ]
  },
  {
   "cell_type": "code",
   "execution_count": 100,
   "metadata": {},
   "outputs": [
    {
     "data": {
      "text/plain": [
       "'ARDRegression_metrics: '"
      ]
     },
     "metadata": {},
     "output_type": "display_data"
    },
    {
     "data": {
      "text/plain": [
       "{'train_set': [0.3406, 0.6373, 0.637], 'test_set': [0.3674, 0.6147, 0.6136]}"
      ]
     },
     "metadata": {},
     "output_type": "display_data"
    }
   ],
   "source": [
    "# import sklearn's Bayesian regression\n",
    "from sklearn.linear_model import ARDRegression\n",
    "\n",
    "ARDRegression_model = ARDRegression()\n",
    "ARDRegression_metrics = train_test(\"ARDRegression\", ARDRegression_model, X, y, test_X, test_y)\n",
    "display(\"ARDRegression_metrics: \", ARDRegression_metrics)"
   ]
  },
  {
   "attachments": {},
   "cell_type": "markdown",
   "metadata": {},
   "source": [
    "### Non-linear models\n",
    "\n",
    "- SVR\n",
    "- KNN\n",
    "- Decision Tree"
   ]
  },
  {
   "cell_type": "code",
   "execution_count": 101,
   "metadata": {},
   "outputs": [
    {
     "data": {
      "text/plain": [
       "'SVR_metrics: '"
      ]
     },
     "metadata": {},
     "output_type": "display_data"
    },
    {
     "data": {
      "text/plain": [
       "{'train_set': [0.8613, 0.0828, 0.0821], 'test_set': [0.8816, 0.0755, 0.0729]}"
      ]
     },
     "metadata": {},
     "output_type": "display_data"
    }
   ],
   "source": [
    "# import sklearn's support vector regression\n",
    "from sklearn.svm import SVR, LinearSVR\n",
    "\n",
    "SVR_model = SVR()\n",
    "SVR_metrics = train_test(\"SVR\", SVR_model, X, y, test_X, test_y)\n",
    "display(\"SVR_metrics: \", SVR_metrics)\n"
   ]
  },
  {
   "cell_type": "code",
   "execution_count": 9,
   "metadata": {},
   "outputs": [
    {
     "name": "stderr",
     "output_type": "stream",
     "text": [
      "d:\\Install\\Anaconda\\envs\\ml-labs\\lib\\site-packages\\sklearn\\svm\\_base.py:1208: ConvergenceWarning: Liblinear failed to converge, increase the number of iterations.\n",
      "  ConvergenceWarning,\n"
     ]
    },
    {
     "data": {
      "text/plain": [
       "'SVR_metrics: '"
      ]
     },
     "metadata": {},
     "output_type": "display_data"
    },
    {
     "data": {
      "text/plain": [
       "{'train_set': [0.4224, 0.5502, 0.5499], 'test_set': [0.4758, 0.501, 0.4996]}"
      ]
     },
     "metadata": {},
     "output_type": "display_data"
    }
   ],
   "source": [
    "# import sklearn's support vector regression\n",
    "from sklearn.svm import SVR, LinearSVR\n",
    "\n",
    "SVR_model = LinearSVR(max_iter=1000000, random_state=42)\n",
    "SVR_metrics = train_test(\"SVR\", SVR_model, X, y, test_X, test_y)\n",
    "display(\"SVR_metrics: \", SVR_metrics)"
   ]
  },
  {
   "cell_type": "code",
   "execution_count": 102,
   "metadata": {},
   "outputs": [
    {
     "data": {
      "text/plain": [
       "'KNeighborsRegressor_metrics: '"
      ]
     },
     "metadata": {},
     "output_type": "display_data"
    },
    {
     "data": {
      "text/plain": [
       "{'train_set': [0.8386, 0.107, 0.1063], 'test_set': [0.8744, 0.083, 0.0805]}"
      ]
     },
     "metadata": {},
     "output_type": "display_data"
    }
   ],
   "source": [
    "# import sklearn's nearest neighbor regression\n",
    "from sklearn.neighbors import KNeighborsRegressor\n",
    "\n",
    "KNeighborsRegressor_model = KNeighborsRegressor(n_neighbors=100)\n",
    "KNeighborsRegressor_metrics = train_test(\"KNeighborsRegressor\", KNeighborsRegressor_model, X, y, test_X, test_y)\n",
    "display(\"KNeighborsRegressor_metrics: \", KNeighborsRegressor_metrics)"
   ]
  },
  {
   "cell_type": "code",
   "execution_count": 103,
   "metadata": {},
   "outputs": [
    {
     "data": {
      "text/plain": [
       "'DecisionTreeRegressor_metrics: '"
      ]
     },
     "metadata": {},
     "output_type": "display_data"
    },
    {
     "data": {
      "text/plain": [
       "{'train_set': [0.0, 1.0, 1.0], 'test_set': [0.3764, 0.6053, 0.6042]}"
      ]
     },
     "metadata": {},
     "output_type": "display_data"
    },
    {
     "name": "stdout",
     "output_type": "stream",
     "text": [
      "Time:  0.15 s\n"
     ]
    }
   ],
   "source": [
    "# import sklearn's decision tree regression\n",
    "from sklearn.tree import DecisionTreeRegressor\n",
    "import time\n",
    "\n",
    "DecisionTreeRegressor_model = DecisionTreeRegressor(random_state=42)\n",
    "# start timing\n",
    "start_time = time.time()\n",
    "DecisionTreeRegressor_metrics = train_test(\"DecisionTreeRegressor\", DecisionTreeRegressor_model, X, y, test_X, test_y)\n",
    "# end timing\n",
    "end_time = time.time()\n",
    "display(\"DecisionTreeRegressor_metrics: \", DecisionTreeRegressor_metrics)\n",
    "print(\"Time: \", round(end_time - start_time, 2), \"s\")"
   ]
  },
  {
   "attachments": {},
   "cell_type": "markdown",
   "metadata": {},
   "source": [
    "### Ensemble model\n",
    "\n",
    "- GBDT"
   ]
  },
  {
   "cell_type": "code",
   "execution_count": 94,
   "metadata": {},
   "outputs": [
    {
     "data": {
      "text/plain": [
       "'GradientBoostingRegressor_metrics: '"
      ]
     },
     "metadata": {},
     "output_type": "display_data"
    },
    {
     "data": {
      "text/plain": [
       "{'train_set': [0.1907, 0.7969, 0.7968], 'test_set': [0.2135, 0.7761, 0.7754]}"
      ]
     },
     "metadata": {},
     "output_type": "display_data"
    },
    {
     "name": "stdout",
     "output_type": "stream",
     "text": [
      "Time:  3.25 s\n"
     ]
    }
   ],
   "source": [
    "# import sklearn's ensemble regression\n",
    "from sklearn.ensemble import GradientBoostingRegressor\n",
    "import time\n",
    "\n",
    "GradientBoostingRegressor_model = GradientBoostingRegressor(random_state=42)\n",
    "# start timing\n",
    "start_time = time.time()\n",
    "GradientBoostingRegressor_metrics = train_test(\"GradientBoostingRegressor\", GradientBoostingRegressor_model, X, y, test_X, test_y)\n",
    "end_time = time.time()\n",
    "display(\"GradientBoostingRegressor_metrics: \", GradientBoostingRegressor_metrics)\n",
    "# print time with 2 decimal places\n",
    "print(\"Time: \", round(end_time - start_time, 2), \"s\")"
   ]
  },
  {
   "attachments": {},
   "cell_type": "markdown",
   "metadata": {},
   "source": [
    "### Neural Network\n",
    "\n",
    "- MLP"
   ]
  },
  {
   "cell_type": "code",
   "execution_count": 40,
   "metadata": {},
   "outputs": [
    {
     "data": {
      "text/plain": [
       "'MLPRegressor_metrics: '"
      ]
     },
     "metadata": {},
     "output_type": "display_data"
    },
    {
     "data": {
      "text/plain": [
       "{'train_set': [0.4148, 0.5583, 0.558], 'test_set': [0.4732, 0.5038, 0.5024]}"
      ]
     },
     "metadata": {},
     "output_type": "display_data"
    }
   ],
   "source": [
    "# import sklearn's neural network regression\n",
    "from sklearn.neural_network import MLPRegressor\n",
    "\n",
    "MLPRegressor_model = MLPRegressor(learning_rate_init=0.08, random_state=42, hidden_layer_sizes=(16,), max_iter=50000, learning_rate='adaptive')\n",
    "MLPRegressor_metrics = train_test(\"MLPRegressor\", MLPRegressor_model, X, y, test_X, test_y)\n",
    "display(\"MLPRegressor_metrics: \", MLPRegressor_metrics)\n"
   ]
  },
  {
   "cell_type": "code",
   "execution_count": 89,
   "metadata": {},
   "outputs": [
    {
     "data": {
      "text/plain": [
       "0.03245585765309921"
      ]
     },
     "metadata": {},
     "output_type": "display_data"
    },
    {
     "name": "stdout",
     "output_type": "stream",
     "text": [
      "-1.3877787807814457e-16 0.3271\n"
     ]
    },
    {
     "data": {
      "text/plain": [
       "'Lasso_metrics: '"
      ]
     },
     "metadata": {},
     "output_type": "display_data"
    },
    {
     "data": {
      "text/plain": [
       "{'train_set': [0.3271, 0.6517, 0.6514], 'test_set': [0.3589, 0.6237, 0.6226]}"
      ]
     },
     "metadata": {},
     "output_type": "display_data"
    },
    {
     "data": {
      "image/png": "[encoded data removed]",
      "text/plain": [
       "<Figure size 640x480 with 1 Axes>"
      ]
     },
     "metadata": {},
     "output_type": "display_data"
    }
   ],
   "source": [
    "# import sklearn's linear models\n",
    "from sklearn.linear_model import Lasso\n",
    "import numpy as np\n",
    "import matplotlib.pyplot as plt\n",
    "\n",
    "display(LassoCV_model.alpha_)\n",
    "\n",
    "step = -0.001\n",
    "alphas = np.arange(0.15, -0.003, step)\n",
    "best_alpha = 1.0\n",
    "best_mse = 1000\n",
    "record = []\n",
    "test= []\n",
    "for alpha in alphas:\n",
    "    Lasso_model = Lasso(alpha=alpha, random_state=42)\n",
    "    Lasso_metrics = train_test(\"Lasso\", Lasso_model, X, y, test_X, test_y)\n",
    "    # print(Lasso_metrics[\"test_set\"][1])\n",
    "    if Lasso_metrics[\"train_set\"][0] < best_mse:\n",
    "        best_mse = Lasso_metrics[\"train_set\"][0]\n",
    "        best_alpha = alpha\n",
    "    record.append(Lasso_metrics[\"train_set\"][0])\n",
    "    test.append(Lasso_metrics[\"test_set\"][0])\n",
    "    \n",
    "\n",
    "print(best_alpha, best_mse)\n",
    "\n",
    "\n",
    "# plot the list with legend\n",
    "plt.plot(alphas, record, label=\"train\")\n",
    "plt.plot(alphas, test, label=\"test\")\n",
    "plt.legend()\n",
    "# add axis\n",
    "plt.xlabel(\"alpha\")\n",
    "plt.ylabel(\"MSE\")\n",
    "# add title\n",
    "plt.title(\"Regularization Term for Lasso Regression\")\n",
    "# set dpi 300\n",
    "plt.savefig(\"./img/z/Regularization Term for Lasso Regression.png\", dpi=125)\n",
    "\n",
    "\n",
    "Lasso_model = Lasso(alpha=best_alpha, random_state=42)\n",
    "Lasso_metrics = train_test(\"Lasso\", Lasso_model, X, y, test_X, test_y)\n",
    "display(\"Lasso_metrics: \", Lasso_metrics)\n",
    "\n"
   ]
  }
 ],
 "metadata": {
  "kernelspec": {
   "display_name": "ml-labs",
   "language": "python",
   "name": "python3"
  },
  "language_info": {
   "codemirror_mode": {
    "name": "ipython",
    "version": 3
   },
   "file_extension": ".py",
   "mimetype": "text/x-python",
   "name": "python",
   "nbconvert_exporter": "python",
   "pygments_lexer": "ipython3",
   "version": "3.7.12"
  },
  "orig_nbformat": 4
 },
 "nbformat": 4,
 "nbformat_minor": 2
}
