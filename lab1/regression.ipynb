{
 "cells": [
  {
   "attachments": {},
   "cell_type": "markdown",
   "metadata": {},
   "source": [
    "#### Lab1：回归"
   ]
  },
  {
   "cell_type": "code",
   "execution_count": 9,
   "metadata": {},
   "outputs": [
    {
     "name": "stdout",
     "output_type": "stream",
     "text": [
      "(20640, 8)\n",
      "(20640,)\n",
      "['MedInc', 'HouseAge', 'AveRooms', 'AveBedrms', 'Population', 'AveOccup', 'Latitude', 'Longitude']\n"
     ]
    }
   ],
   "source": [
    "# load california house price dataset\n",
    "from sklearn.datasets import fetch_california_housing\n",
    "california = fetch_california_housing()\n",
    "# fetch the features as X and target as y\n",
    "X = california.data\n",
    "y = california.target\n",
    "# print the dimension of the data\n",
    "print(X.shape)\n",
    "print(y.shape)\n",
    "# print the column name of the data\n",
    "print(california.feature_names)"
   ]
  },
  {
   "cell_type": "code",
   "execution_count": 10,
   "metadata": {},
   "outputs": [
    {
     "name": "stdout",
     "output_type": "stream",
     "text": [
      "Integrity check passed\n",
      "Mean of each column:  [ 3.87067100e+00  2.86394864e+01  5.42899974e+00  1.09667515e+00\n",
      "  1.42547674e+03  3.07065516e+00  3.56318614e+01 -1.19569704e+02]\n",
      "Std of each column:  [1.89977569e+00 1.25852527e+01 2.47411320e+00 4.73899376e-01\n",
      " 1.13243469e+03 1.03857980e+01 2.13590065e+00 2.00348319e+00]\n",
      "Min of each column:  [   0.4999        1.            0.84615385    0.33333333    3.\n",
      "    0.69230769   32.54       -124.35      ]\n",
      "Max of each column:  [ 1.50001000e+01  5.20000000e+01  1.41909091e+02  3.40666667e+01\n",
      "  3.56820000e+04  1.24333333e+03  4.19500000e+01 -1.14310000e+02]\n"
     ]
    }
   ],
   "source": [
    "# dataset characteristics\n",
    "# check if there is a null value\n",
    "import numpy as np\n",
    "if np.any(np.isnan(X)) or np.any(np.isnan(y)):\n",
    "    print(\"There is a null value in the data\")\n",
    "else:\n",
    "    print(\"Integrity check passed\")\n",
    "\n",
    "# calculate the mean, std, min, max of each column\n",
    "print(\"Mean of each column: \", np.mean(X, axis=0))\n",
    "print(\"Std of each column: \", np.std(X, axis=0))\n",
    "print(\"Min of each column: \", np.min(X, axis=0))\n",
    "print(\"Max of each column: \", np.max(X, axis=0))\n"
   ]
  },
  {
   "cell_type": "code",
   "execution_count": 12,
   "metadata": {},
   "outputs": [
    {
     "data": {
      "text/plain": [
       "'\\nimport torch\\nX_train_torch = torch.from_numpy(X_train).float()\\nX_test_torch = torch.from_numpy(X_test).float()\\ny_train_torch = torch.from_numpy(y_train).float()\\ny_test_torch = torch.from_numpy(y_test).float()\\n'"
      ]
     },
     "execution_count": 12,
     "metadata": {},
     "output_type": "execute_result"
    }
   ],
   "source": [
    "# dataset preprocess\n",
    "# normalize the data\n",
    "from sklearn.preprocessing import StandardScaler\n",
    "scaler = StandardScaler()\n",
    "X = scaler.fit_transform(X)\n",
    "\n",
    "# split the data into training and testing\n",
    "from sklearn.model_selection import train_test_split\n",
    "X_train, X_test, y_train, y_test = train_test_split(X, y, test_size=0.2, random_state=42)\n",
    "\n",
    "# convert the data into torch tensor (this is to do with the possible neural network regression)\n",
    "'''\n",
    "import torch\n",
    "X_train_torch = torch.from_numpy(X_train).float()\n",
    "X_test_torch = torch.from_numpy(X_test).float()\n",
    "y_train_torch = torch.from_numpy(y_train).float()\n",
    "y_test_torch = torch.from_numpy(y_test).float()\n",
    "'''"
   ]
  },
  {
   "cell_type": "code",
   "execution_count": 13,
   "metadata": {},
   "outputs": [
    {
     "name": "stdout",
     "output_type": "stream",
     "text": [
      "Mean squared error:  0.5558915986952443\n",
      "R2 score:  0.5757877060324508\n"
     ]
    }
   ],
   "source": [
    "# linear regression\n",
    "# import the linear regression model\n",
    "from sklearn.linear_model import LinearRegression\n",
    "# create the model\n",
    "model = LinearRegression()\n",
    "# train the model\n",
    "model.fit(X_train, y_train)\n",
    "# predict the target\n",
    "y_pred = model.predict(X_test)\n",
    "\n",
    "# calculate the mean squared error\n",
    "from sklearn.metrics import mean_squared_error\n",
    "mse = mean_squared_error(y_test, y_pred)\n",
    "print(\"Mean squared error: \", mse)\n",
    "# calculate the r2 score\n",
    "from sklearn.metrics import r2_score\n",
    "r2 = r2_score(y_test, y_pred)\n",
    "print(\"R2 score: \", r2)\n"
   ]
  }
 ],
 "metadata": {
  "kernelspec": {
   "display_name": "ml-labs",
   "language": "python",
   "name": "python3"
  },
  "language_info": {
   "codemirror_mode": {
    "name": "ipython",
    "version": 3
   },
   "file_extension": ".py",
   "mimetype": "text/x-python",
   "name": "python",
   "nbconvert_exporter": "python",
   "pygments_lexer": "ipython3",
   "version": "3.7.12"
  },
  "orig_nbformat": 4
 },
 "nbformat": 4,
 "nbformat_minor": 2
}
