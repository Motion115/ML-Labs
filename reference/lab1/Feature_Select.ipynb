{
 "metadata": {
  "language_info": {
   "codemirror_mode": {
    "name": "ipython",
    "version": 3
   },
   "file_extension": ".py",
   "mimetype": "text/x-python",
   "name": "python",
   "nbconvert_exporter": "python",
   "pygments_lexer": "ipython3",
   "version": "3.7.3-final"
  },
  "orig_nbformat": 2,
  "kernelspec": {
   "name": "python373jvsc74a57bd0396c2dc2f35bb6634743d012509a8d01e8157db9172853bbb1b544db17172d9d",
   "display_name": "Python 3.7.3 64-bit ('BDAI': conda)"
  },
  "metadata": {
   "interpreter": {
    "hash": "5c3b02fa24688d32a1d09351b7f8eac82a87272ad081601c73caead00a8e1fc4"
   }
  }
 },
 "nbformat": 4,
 "nbformat_minor": 2,
 "cells": [
  {
   "cell_type": "code",
   "execution_count": 792,
   "metadata": {},
   "outputs": [],
   "source": [
    "import numpy as np\n",
    "import pandas as pd\n",
    "import matplotlib.pyplot as plt\n",
    "import seaborn as sns\n",
    "\n",
    "%matplotlib inline"
   ]
  },
  {
   "cell_type": "code",
   "execution_count": 793,
   "metadata": {},
   "outputs": [
    {
     "output_type": "stream",
     "name": "stdout",
     "text": [
      "共有数据量： 1030\n"
     ]
    }
   ],
   "source": [
    "data = pd.read_excel(\"Concrete_Data.xls\")\n",
    "print(\"共有数据量：\",len(data))\n",
    "# 给上述的数据集的列名重新改名，方便编程和阅读\n",
    "req_col_names = [\"Cement\", \"BlastFurnaceSlag\", \"FlyAsh\", \"Water\", \"Superplasticizer\",\n",
    "                 \"CoarseAggregate\", \"FineAggregate\", \"Age\", \"CC_Strength\"]\n",
    "curr_col_names = list(data.columns)\n",
    "\n",
    "mapper = {}\n",
    "for i, name in enumerate(curr_col_names):\n",
    "    mapper[name] = req_col_names[i]\n",
    "\n",
    "data = data.rename(columns=mapper)"
   ]
  },
  {
   "cell_type": "code",
   "execution_count": 794,
   "metadata": {},
   "outputs": [
    {
     "output_type": "execute_result",
     "data": {
      "text/plain": [
       "   Cement  BlastFurnaceSlag  FlyAsh  Water  Superplasticizer  CoarseAggregate  \\\n",
       "0   540.0               0.0     0.0  162.0               2.5           1040.0   \n",
       "1   540.0               0.0     0.0  162.0               2.5           1055.0   \n",
       "2   332.5             142.5     0.0  228.0               0.0            932.0   \n",
       "3   332.5             142.5     0.0  228.0               0.0            932.0   \n",
       "4   198.6             132.4     0.0  192.0               0.0            978.4   \n",
       "\n",
       "   FineAggregate  Age  CC_Strength  \n",
       "0          676.0   28    79.986111  \n",
       "1          676.0   28    61.887366  \n",
       "2          594.0  270    40.269535  \n",
       "3          594.0  365    41.052780  \n",
       "4          825.5  360    44.296075  "
      ],
      "text/html": "<div>\n<style scoped>\n    .dataframe tbody tr th:only-of-type {\n        vertical-align: middle;\n    }\n\n    .dataframe tbody tr th {\n        vertical-align: top;\n    }\n\n    .dataframe thead th {\n        text-align: right;\n    }\n</style>\n<table border=\"1\" class=\"dataframe\">\n  <thead>\n    <tr style=\"text-align: right;\">\n      <th></th>\n      <th>Cement</th>\n      <th>BlastFurnaceSlag</th>\n      <th>FlyAsh</th>\n      <th>Water</th>\n      <th>Superplasticizer</th>\n      <th>CoarseAggregate</th>\n      <th>FineAggregate</th>\n      <th>Age</th>\n      <th>CC_Strength</th>\n    </tr>\n  </thead>\n  <tbody>\n    <tr>\n      <th>0</th>\n      <td>540.0</td>\n      <td>0.0</td>\n      <td>0.0</td>\n      <td>162.0</td>\n      <td>2.5</td>\n      <td>1040.0</td>\n      <td>676.0</td>\n      <td>28</td>\n      <td>79.986111</td>\n    </tr>\n    <tr>\n      <th>1</th>\n      <td>540.0</td>\n      <td>0.0</td>\n      <td>0.0</td>\n      <td>162.0</td>\n      <td>2.5</td>\n      <td>1055.0</td>\n      <td>676.0</td>\n      <td>28</td>\n      <td>61.887366</td>\n    </tr>\n    <tr>\n      <th>2</th>\n      <td>332.5</td>\n      <td>142.5</td>\n      <td>0.0</td>\n      <td>228.0</td>\n      <td>0.0</td>\n      <td>932.0</td>\n      <td>594.0</td>\n      <td>270</td>\n      <td>40.269535</td>\n    </tr>\n    <tr>\n      <th>3</th>\n      <td>332.5</td>\n      <td>142.5</td>\n      <td>0.0</td>\n      <td>228.0</td>\n      <td>0.0</td>\n      <td>932.0</td>\n      <td>594.0</td>\n      <td>365</td>\n      <td>41.052780</td>\n    </tr>\n    <tr>\n      <th>4</th>\n      <td>198.6</td>\n      <td>132.4</td>\n      <td>0.0</td>\n      <td>192.0</td>\n      <td>0.0</td>\n      <td>978.4</td>\n      <td>825.5</td>\n      <td>360</td>\n      <td>44.296075</td>\n    </tr>\n  </tbody>\n</table>\n</div>"
     },
     "metadata": {},
     "execution_count": 794
    }
   ],
   "source": [
    "data.head()"
   ]
  },
  {
   "source": [
    "\n"
   ],
   "cell_type": "markdown",
   "metadata": {}
  },
  {
   "cell_type": "code",
   "execution_count": 795,
   "metadata": {},
   "outputs": [],
   "source": [
    "# 区分自变量和因变量，将前面所有的作为自变量，最后一个作为回归的因变量。\n",
    "X = data.iloc[:,:-1]         # Features - All columns but last\n",
    "y = data.iloc[:,-1]          # Target - Last Column\n"
   ]
  },
  {
   "cell_type": "code",
   "execution_count": 796,
   "metadata": {},
   "outputs": [],
   "source": [
    "from sklearn.model_selection import train_test_split\n",
    "\n",
    "X_train, X_test, y_train, y_test = train_test_split(X, y, test_size=0.2)"
   ]
  },
  {
   "cell_type": "code",
   "execution_count": 797,
   "metadata": {},
   "outputs": [
    {
     "output_type": "stream",
     "name": "stderr",
     "text": [
      "D:\\python\\envs\\BDAI\\lib\\site-packages\\sklearn\\preprocessing\\data.py:645: DataConversionWarning: Data with input dtype int64, float64 were all converted to float64 by StandardScaler.\n  return self.partial_fit(X, y)\nD:\\python\\envs\\BDAI\\lib\\site-packages\\sklearn\\base.py:464: DataConversionWarning: Data with input dtype int64, float64 were all converted to float64 by StandardScaler.\n  return self.fit(X, **fit_params).transform(X)\nD:\\python\\envs\\BDAI\\lib\\site-packages\\ipykernel_launcher.py:9: DataConversionWarning: Data with input dtype int64, float64 were all converted to float64 by StandardScaler.\n  if __name__ == '__main__':\n"
     ]
    }
   ],
   "source": [
    "from sklearn.preprocessing import StandardScaler\n",
    "\n",
    "# 标准归一化，将特征表现为标准正态分布数据(均值为0，方差为1)。\n",
    "# 如果某个特征的方差比其他特征大几个数量级，那么它就会在学习算法中占据主导位置，导致学习器不能从其他特征中学习，从而降低精度。\n",
    "# 进行归一化可以加快梯度下降求解的速度。\n",
    "sc = StandardScaler()\n",
    "\n",
    "X_train = sc.fit_transform(X_train)\n",
    "X_test = sc.transform(X_test)"
   ]
  },
  {
   "source": [],
   "cell_type": "markdown",
   "metadata": {}
  },
  {
   "cell_type": "code",
   "execution_count": 798,
   "metadata": {},
   "outputs": [],
   "source": [
    "from sklearn.linear_model import LinearRegression\n",
    "\n",
    "lr = LinearRegression()\n",
    "lr.fit(X_train, y_train)\n",
    "\n",
    "y_pred_lr = lr.predict(X_test)"
   ]
  },
  {
   "cell_type": "code",
   "execution_count": 799,
   "metadata": {},
   "outputs": [],
   "source": [
    "X_train = np.array(X_train)\n",
    "X_test = np.array(X_test)\n",
    "X_train2 = X_train[:,[0,1,2 ,3 ,4 ,7]]\n",
    "X_test2 = X_test[:,[0,1,2 ,3 ,4 ,7]]\n",
    "lr2 = LinearRegression()\n",
    "lr2.fit(X_train2, y_train)\n",
    "y_pred_lr2 = lr2.predict(X_test2)"
   ]
  },
  {
   "cell_type": "code",
   "execution_count": 800,
   "metadata": {},
   "outputs": [
    {
     "output_type": "stream",
     "name": "stdout",
     "text": [
      "Model\t\t\t RMSE \t MSE \t MAE \t R2\nLinearRegression \t 9.69 \t 93.85 7.71 \t0.658452\nLinearRegression2 \t 9.67 \t 93.60 7.72 \t0.659353\n"
     ]
    }
   ],
   "source": [
    "from sklearn.metrics import mean_squared_error, mean_absolute_error, r2_score\n",
    "\n",
    "print(\"Model\\t\\t\\t RMSE \\t MSE \\t MAE \\t R2\")\n",
    "print(\"\"\"LinearRegression \\t {:.2f} \\t {:.2f} {:.2f} \\t{:.6f}\"\"\".format(\n",
    "            np.sqrt(mean_squared_error(y_test, y_pred_lr)),mean_squared_error(y_test,\n",
    "        y_pred_lr),\n",
    "        mean_absolute_error(y_test, y_pred_lr), r2_score(y_test, y_pred_lr))) \n",
    "print(\"\"\"LinearRegression2 \\t {:.2f} \\t {:.2f} {:.2f} \\t{:.6f}\"\"\".format(\n",
    "            np.sqrt(mean_squared_error(y_test, y_pred_lr2)),mean_squared_error(y_test,\n",
    "        y_pred_lr2),\n",
    "        mean_absolute_error(y_test, y_pred_lr2), r2_score(y_test, y_pred_lr2))) "
   ]
  },
  {
   "cell_type": "code",
   "execution_count": 801,
   "metadata": {},
   "outputs": [
    {
     "output_type": "stream",
     "name": "stdout",
     "text": [
      "[0 1 2 3 4 6]\n"
     ]
    }
   ],
   "source": [
    "from sklearn.feature_selection import SelectKBest,f_regression,chi2,f_classif,mutual_info_regression\n",
    "# f_regression计算相关性\n",
    "x_new = SelectKBest(f_classif,k=6).fit(X_train,y_train).get_support(indices=True)\n",
    "print(x_new)"
   ]
  },
  {
   "cell_type": "code",
   "execution_count": null,
   "metadata": {},
   "outputs": [],
   "source": []
  },
  {
   "cell_type": "code",
   "execution_count": null,
   "metadata": {},
   "outputs": [],
   "source": []
  }
 ]
}